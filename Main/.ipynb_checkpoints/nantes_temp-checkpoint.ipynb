{
 "cells": [
  {
   "cell_type": "markdown",
   "id": "78089f96",
   "metadata": {},
   "source": [
    "#  importing libraries"
   ]
  },
  {
   "cell_type": "code",
   "execution_count": null,
   "id": "ab566b72",
   "metadata": {},
   "outputs": [],
   "source": [
    "import datetime\n",
    "import json\n",
    "import requests\n",
    "import os\n",
    "import csv\n",
    "import matplotlib.pyplot as plt\n",
    "import pandas as pd \n",
    "import numpy as np \n",
    "from flask import Flask, flash, redirect, render_template, request, session, abort"
   ]
  },
  {
   "cell_type": "markdown",
   "id": "5c8517f1",
   "metadata": {},
   "source": [
    "# Download json data "
   ]
  },
  {
   "cell_type": "code",
   "execution_count": 29,
   "id": "906e7c4d",
   "metadata": {},
   "outputs": [
    {
     "name": "stdout",
     "output_type": "stream",
     "text": [
      "Please insert a station name: \n",
      "NANTES-BOUGUENAIS\n",
      "Welcome to: NANTES-BOUGUENAIS\n",
      "Enter a date (YYYY-MM-DD): 2023-01-01\n",
      "Valid date\n"
     ]
    }
   ],
   "source": [
    "print(\"Please insert a station name: \")\n",
    "station = input()\n",
    "\n",
    "print(\"Welcome to:\", station.upper())\n",
    "\n",
    "def check_date():\n",
    "    date_format = '%Y-%m-%d'\n",
    "    my_date = input(\"Enter a date (YYYY-MM-DD): \")\n",
    "    try:\n",
    "        datetime.datetime.strptime(my_date, date_format)\n",
    "    except ValueError:\n",
    "        return -1\n",
    "    return 0\n",
    "\n",
    "while check_date() == -1:\n",
    "    print(\"Invalid date\")\n",
    "\n",
    "print(\"Valid date\")"
   ]
  },
  {
   "cell_type": "code",
   "execution_count": 1,
   "id": "e1bbed74",
   "metadata": {},
   "outputs": [],
   "source": [
    "station = station.upper()\n",
    "refine = \"&refine.nom=\" + station\n",
    "read = requests.get('https://public.opendatasoft.com/api/records/1.0/search/?dataset=donnees-synop-essentielles-omm&q=&sort=date&facet=date&facet=nom&facet=temps_present&facet=libgeo&facet=nom_epci&facet=nom_dept&facet=nom_reg' + refine)\n",
    "data = read.json()\n",
    "print(data)\n",
    "print(json.dumps(data, indent=4, sort_keys=False))\n"
   ]
  },
  {
   "cell_type": "markdown",
   "id": "dc852d9d",
   "metadata": {},
   "source": [
    "# data registrartion as json file "
   ]
  },
  {
   "cell_type": "code",
   "execution_count": 2,
   "id": "0e6115d6",
   "metadata": {},
   "outputs": [],
   "source": [
    "path = 'C:/Users/pc/Desktop/main/data'\n",
    "try :\n",
    "    os.mkdir(path)\n",
    "except:\n",
    "    print(\"creation of the directory %s failed\"%path)\n",
    "else :\n",
    "    print(\"Successfully created the directory %s\"%path)\n",
    "    \n",
    "with open(path+\"/data.json\",'w') as json_file :\n",
    "    json.dump(data ,json_file,indent=4,sort_keys=False)"
   ]
  },
  {
   "cell_type": "markdown",
   "id": "1ac81649",
   "metadata": {},
   "source": [
    "# json data & csv file"
   ]
  },
  {
   "cell_type": "code",
   "execution_count": 32,
   "id": "2f2e6183",
   "metadata": {},
   "outputs": [
    {
     "name": "stdout",
     "output_type": "stream",
     "text": [
      "NANTES-BOUGUENAIS\n",
      "   | 18 C\n",
      "   | 2023-07-04\n",
      "   | [47.15, -1.608833]\n",
      "\n",
      "NANTES-BOUGUENAIS\n",
      "   | 22 C\n",
      "   | 2023-07-04\n",
      "   | [47.15, -1.608833]\n",
      "\n",
      "NANTES-BOUGUENAIS\n",
      "   | 22 C\n",
      "   | 2023-07-04\n",
      "   | [47.15, -1.608833]\n",
      "\n",
      "NANTES-BOUGUENAIS\n",
      "   | 19 C\n",
      "   | 2023-07-04\n",
      "   | [47.15, -1.608833]\n",
      "\n",
      "NANTES-BOUGUENAIS\n",
      "   | 15 C\n",
      "   | 2023-07-04\n",
      "   | [47.15, -1.608833]\n",
      "\n",
      "NANTES-BOUGUENAIS\n",
      "   | 14 C\n",
      "   | 2023-07-04\n",
      "   | [47.15, -1.608833]\n",
      "\n",
      "NANTES-BOUGUENAIS\n",
      "   | 13 C\n",
      "   | 2023-07-04\n",
      "   | [47.15, -1.608833]\n",
      "\n",
      "NANTES-BOUGUENAIS\n",
      "   | 16 C\n",
      "   | 2023-07-03\n",
      "   | [47.15, -1.608833]\n",
      "\n",
      "NANTES-BOUGUENAIS\n",
      "   | 20 C\n",
      "   | 2023-07-03\n",
      "   | [47.15, -1.608833]\n",
      "\n",
      "NANTES-BOUGUENAIS\n",
      "   | 21 C\n",
      "   | 2023-07-03\n",
      "   | [47.15, -1.608833]\n",
      "\n"
     ]
    }
   ],
   "source": [
    "sites = data[\"records\"]\n",
    "with open('city.csv','w',newline='') as file :\n",
    "    writer = csv.writer(file)\n",
    "    writer.writerow([\"Hour\",\"Temperature\"])\n",
    "    for elt in sites:\n",
    "        print(elt[\"fields\"][\"nom\"])\n",
    "        temp = round(elt[\"fields\"][\"tc\"])\n",
    "        print(\"   |\",temp,\"C\")\n",
    "        date=elt[\"fields\"][\"date\"]\n",
    "        print(\"   |\",date[0:10])\n",
    "        print(\"   |\",elt[\"fields\"][\"coordonnees\"])\n",
    "        print()\n",
    "        writer.writerow([date[11:13],temp])\n"
   ]
  },
  {
   "cell_type": "markdown",
   "id": "409a57b8",
   "metadata": {},
   "source": [
    "# data visualization"
   ]
  },
  {
   "cell_type": "code",
   "execution_count": 33,
   "id": "6e684495",
   "metadata": {},
   "outputs": [
    {
     "data": {
      "image/png": "[encoded data removed]",
      "text/plain": [
       "<Figure size 432x288 with 1 Axes>"
      ]
     },
     "metadata": {
      "needs_background": "light"
     },
     "output_type": "display_data"
    }
   ],
   "source": [
    "table = pd.read_csv(\"city.csv\",encoding=\"latin-1\",sep=',')\n",
    "file = open(\"city.csv\")\n",
    "reader = csv.reader(file)\n",
    "lines = len(list(reader))\n",
    "plt.bar(x=np.arange(1,lines),height=table['Temperature'])\n",
    "table.head()\n",
    "plt.title(station+\" Temperatures\")\n",
    "plt.xticks(np.arange(1,lines), table['Hour'], rotation='33', fontsize=8)\n",
    "plt.yticks(rotation='50', fontsize=8)\n",
    "plt.xlabel(\"Hours\")\n",
    "plt.ylabel(\"Temperatures\")\n",
    "plt.show()"
   ]
  },
  {
   "cell_type": "markdown",
   "id": "42eecbc9",
   "metadata": {},
   "source": [
    "# building a web app with flask"
   ]
  },
  {
   "cell_type": "code",
   "execution_count": null,
   "id": "205e2c22",
   "metadata": {},
   "outputs": [
    {
     "name": "stdout",
     "output_type": "stream",
     "text": [
      " * Serving Flask app \"__main__\" (lazy loading)\n",
      " * Environment: production\n",
      "\u001b[31m   WARNING: This is a development server. Do not use it in a production deployment.\u001b[0m\n",
      "\u001b[2m   Use a production WSGI server instead.\u001b[0m\n",
      " * Debug mode: off\n"
     ]
    },
    {
     "name": "stderr",
     "output_type": "stream",
     "text": [
      " * Running on http://127.0.0.1:5000/ (Press CTRL+C to quit)\n",
      "127.0.0.1 - - [05/Jul/2023 11:12:59] \"GET / HTTP/1.1\" 200 -\n",
      "127.0.0.1 - - [05/Jul/2023 11:12:59] \"GET /assets/css/main.css HTTP/1.1\" 404 -\n",
      "127.0.0.1 - - [05/Jul/2023 11:12:59] \"GET /images/temperatures.png HTTP/1.1\" 404 -\n",
      "127.0.0.1 - - [05/Jul/2023 19:44:34] \"GET / HTTP/1.1\" 200 -\n",
      "127.0.0.1 - - [05/Jul/2023 19:44:34] \"GET /assets/css/main.css HTTP/1.1\" 404 -\n",
      "127.0.0.1 - - [05/Jul/2023 19:44:34] \"GET /images/temperatures.png HTTP/1.1\" 404 -\n"
     ]
    }
   ],
   "source": [
    "from flask import Flask, render_template\n",
    "\n",
    "app = Flask(__name__)\n",
    "\n",
    "@app.route(\"/\")\n",
    "def index():\n",
    "    string = \"This is a sample string\"\n",
    "    return render_template('index.html', titre=\"Welcome!\", mots=string.split())\n",
    "\n",
    "@app.route('/contact')\n",
    "def contact():\n",
    "    mail = \"aymanemaghouti@gmail.com\"\n",
    "    tel = \"0600000000\"\n",
    "    return f\"Mail: {mail} --- Tel: {tel}\"\n",
    "\n",
    "@app.route(\"/members\")\n",
    "def members():\n",
    "    return \"Members\"\n",
    "\n",
    "@app.route(\"/members/<string:name>/\")\n",
    "def getMember(name):\n",
    "    return name\n",
    "\n",
    "if __name__ == \"__main__\":\n",
    "    app.run()\n"
   ]
  }
 ],
 "metadata": {
  "kernelspec": {
   "display_name": "Python 3 (ipykernel)",
   "language": "python",
   "name": "python3"
  },
  "language_info": {
   "codemirror_mode": {
    "name": "ipython",
    "version": 3
   },
   "file_extension": ".py",
   "mimetype": "text/x-python",
   "name": "python",
   "nbconvert_exporter": "python",
   "pygments_lexer": "ipython3",
   "version": "3.9.12"
  }
 },
 "nbformat": 4,
 "nbformat_minor": 5
}
